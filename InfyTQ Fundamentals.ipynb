{
 "cells": [
  {
   "cell_type": "code",
   "execution_count": null,
   "metadata": {},
   "outputs": [],
   "source": [
    "#PF-Prac-3\n",
    "def create_new_dictionary(prices):\n",
    "    #start writing your code here\n",
    "    new_dict={}\n",
    "    list1=[]\n",
    "    for k,v in prices.items():\n",
    "        if v>200:\n",
    "            list1.append([k,v])\n",
    "        else:\n",
    "            pass\n",
    "    new_dict=dict(list1)\n",
    "    return new_dict\n",
    "\n",
    "prices = { 'ACME': 45.23,'AAPL': 612.78,'IBM': 205.55,'HPQ': 37.20,'FB': 10.75}\n",
    "print(create_new_dictionary(prices))"
   ]
  },
  {
   "cell_type": "code",
   "execution_count": null,
   "metadata": {},
   "outputs": [],
   "source": [
    "#PF-Prac-4\n",
    "def find_nine(nums):\n",
    "    #Remove pass and write your code here\n",
    "    j=0\n",
    "    for i in nums:\n",
    "        if(j==4):\n",
    "            break\n",
    "        if (i==9):\n",
    "            return True\n",
    "            break\n",
    "        else:\n",
    "            pass\n",
    "        j +=1\n",
    "    return False\n",
    "    \n",
    "nums=[1,7,6,5,9]\n",
    "print(find_nine(nums))"
   ]
  },
  {
   "cell_type": "code",
   "execution_count": null,
   "metadata": {},
   "outputs": [],
   "source": [
    "#PF-Prac-5\n",
    "def count_digits_letters(sentence):\n",
    "    #start writing your code here\n",
    "    result_list=[]\n",
    "    j=count=0\n",
    "    for i in sentence:\n",
    "        if i.isalpha():\n",
    "            count +=1\n",
    "        elif i.isdigit():\n",
    "            j +=1\n",
    "        else:\n",
    "            pass\n",
    "    result_list.append(count)\n",
    "    result_list.append(j)\n",
    "    return result_list\n",
    "\n",
    "sentence=\"Infosys Mysore 570027\"\n",
    "print(count_digits_letters(sentence))"
   ]
  },
  {
   "cell_type": "code",
   "execution_count": null,
   "metadata": {},
   "outputs": [],
   "source": [
    "#PF-Prac-6\n",
    "def list123(nums):\n",
    "    #start writing your code here\n",
    "    for i in range(len(nums)-1):\n",
    "        if (nums[i]==1 and nums[i+1]==2 and nums[i+2]==3):\n",
    "            return True\n",
    "    return False\n",
    "\n",
    "nums=[1,2,1,3,1,2,3,1]\n",
    "print(list123(nums))"
   ]
  },
  {
   "cell_type": "code",
   "execution_count": null,
   "metadata": {},
   "outputs": [],
   "source": [
    "#PF-Prac-8\n",
    "def calculate_net_amount(trans_list):\n",
    "    #start writing your code here\n",
    "    net_amount=0\n",
    "    j=[]\n",
    "    for i in trans_list:\n",
    "        s=i.split(':')\n",
    "        #print(s)\n",
    "        j.append(s)\n",
    "    #print(j)\n",
    "    #print(len(j))\n",
    "    for i in range(len(j)):\n",
    "        if j[i][0]=='D':\n",
    "            net_amount=net_amount+int(j[i][1])\n",
    "            #print(net_amount)\n",
    "        if j[i][0]=='W':\n",
    "            net_amount =net_amount-int(j[i][1])\n",
    "            #print(net_amount)\n",
    "    return net_amount\n",
    "\n",
    "trans_list=[\"D:300\",\"D:200\",\"W:200\",\"D:100\"]\n",
    "print(calculate_net_amount(trans_list))"
   ]
  },
  {
   "cell_type": "code",
   "execution_count": null,
   "metadata": {},
   "outputs": [],
   "source": [
    "#PF-Prac-9\n",
    "def generate_dict(number):\n",
    "    #start writing your code here\n",
    "    new_dict={}\n",
    "    for i in range(1,number+1):\n",
    "        new_dict.update({i:i**2})\n",
    "    return new_dict\n",
    "\n",
    "number=20\n",
    "print(generate_dict(number))"
   ]
  },
  {
   "cell_type": "code",
   "execution_count": null,
   "metadata": {},
   "outputs": [],
   "source": [
    "#PF-Prac-11\n",
    "def find_upper_and_lower(sentence):\n",
    "    #start writing your code here\n",
    "    result_list=[]\n",
    "    j=k=0\n",
    "    for i in sentence:\n",
    "        if i.isupper():\n",
    "            j +=1\n",
    "        elif i.islower():\n",
    "            k +=1\n",
    "        else:\n",
    "            pass\n",
    "    result_list.append(j)\n",
    "    result_list.append(k)\n",
    "\n",
    "    return result_list\n",
    "\n",
    "sentence=\"Come Here\"\n",
    "print(find_upper_and_lower(sentence))"
   ]
  },
  {
   "cell_type": "code",
   "execution_count": 18,
   "metadata": {},
   "outputs": [
    {
     "name": "stdout",
     "output_type": "stream",
     "text": [
      "['I love Hockey ', 'I love Football ', 'I play Hockey ', 'I play Football ', 'You love Hockey ', 'You love Football ', 'You play Hockey ', 'You play Football ']\n"
     ]
    }
   ],
   "source": [
    "#PF-Prac-12\n",
    "#Write a python function to generate and return the list of all possible sentences created from the given lists of Subject,Verb and Object.\n",
    "#Note: The sentence should contain only one subject, verb and object each.\n",
    "\n",
    "def generate_sentences(subjects,verbs,objects):\n",
    "    #start writing your code here\n",
    "    sentence_list1=[]\n",
    "    i=0\n",
    "\n",
    "    sentence_list1.append(subjects[0]+' '+verbs[0]+' '+objects[0]+' ')\n",
    "    sentence_list1.append(subjects[0]+' '+verbs[0]+' '+objects[1]+' ')\n",
    "    sentence_list1.append(subjects[0]+' '+verbs[1]+' '+objects[0]+' ')\n",
    "    sentence_list1.append(subjects[0]+' '+verbs[1]+' '+objects[1]+' ')\n",
    "    sentence_list1.append(subjects[1]+' '+verbs[0]+' '+objects[0]+' ')\n",
    "    sentence_list1.append(subjects[1]+' '+verbs[0]+' '+objects[1]+' ')\n",
    "    sentence_list1.append(subjects[1]+' '+verbs[1]+' '+objects[0]+' ')\n",
    "    sentence_list1.append(subjects[1]+' '+verbs[1]+' '+objects[1]+' ')\n",
    "    \n",
    "    return sentence_list1\n",
    "\n",
    "subjects=[\"I\",\"You\"]\n",
    "verbs=[\"love\", \"play\"]\n",
    "objects=[\"Hockey\",\"Football\"]\n",
    "print(generate_sentences(subjects,verbs,objects))"
   ]
  },
  {
   "cell_type": "code",
   "execution_count": null,
   "metadata": {},
   "outputs": [],
   "source": [
    "#PF-Prac-13\n",
    "def close_number(num1,num2,num3):\n",
    "    #start writing your code here\n",
    "    l=[]\n",
    "    l.append(num1)\n",
    "    l.append(num2)\n",
    "    l.append(num3)\n",
    "    #print(l)\n",
    "    l.sort()\n",
    "    #print(l)\n",
    "    #k=len(l)\n",
    "    #for i in range(k-1,-1,-1):\n",
    "    #if (l[2]-l[1]==l[1]-l[0]==1):\n",
    "        #return False\n",
    "    if ((l[2]-l[1]==1) or (l[1]-l[0]==1) or (l[0]-l[1]==0)):\n",
    "        if ((l[2]-l[1]>=2) or (l[1]-l[0]>=2)):\n",
    "            return True\n",
    "    return False\n",
    "    \n",
    "print(close_number(6,6,8))\n",
    "        "
   ]
  },
  {
   "cell_type": "code",
   "execution_count": null,
   "metadata": {},
   "outputs": [],
   "source": [
    "#PF-Prac-15\n",
    "def check_22(num_list):\n",
    "    #start writing your code here\n",
    "    for i in range(len(num_list)-1):\n",
    "        if num_list[i]==num_list[i+1]==2:\n",
    "            return True\n",
    "    return False\n",
    "        \n",
    "print(check_22([3,2,5,1,2,1,2,2]))"
   ]
  },
  {
   "cell_type": "code",
   "execution_count": null,
   "metadata": {},
   "outputs": [],
   "source": [
    "#PF-Prac-16\n",
    "def rotate_list(input_list,n):\n",
    "    #start writing your code here\n",
    "    output_list=[]\n",
    "    j=len(input_list)-n\n",
    "    for i in range(n):\n",
    "        output_list.append(input_list[j])\n",
    "        j=j+1\n",
    "    j=len(input_list)-n\n",
    "    for i in range(j):\n",
    "        output_list.append(input_list[i])\n",
    "    return output_list\n",
    "\n",
    "input_list= [1,2,3,4,5,6]\n",
    "output_list=rotate_list(input_list,4)\n",
    "print(output_list)"
   ]
  },
  {
   "cell_type": "code",
   "execution_count": null,
   "metadata": {},
   "outputs": [],
   "source": [
    "#PF-Prac-23\n",
    "def diagonal_stars(number):\n",
    "   #start writing your code here\n",
    "    count=0\n",
    "    for i in range(0,number):\n",
    "        for k in range(0,i):\n",
    "            print('.',end='')\n",
    "        else:\n",
    "            print('*',end='')\n",
    "        print()\n",
    "       \n",
    "number=6    \n",
    "diagonal_stars(number)"
   ]
  },
  {
   "cell_type": "code",
   "execution_count": null,
   "metadata": {},
   "outputs": [],
   "source": [
    "#PF-Prac-23\n",
    "def divisible_by_sum(number):\n",
    "    #start writing your code here\n",
    "    x=str(number)\n",
    "    y=len(x)\n",
    "    sum=0\n",
    "    for i in range(y):\n",
    "        sum=sum+int(x[i])\n",
    "    if number%sum==0:\n",
    "        return True\n",
    "    return False\n",
    "\n",
    "number=43\n",
    "print(divisible_by_sum(number))"
   ]
  },
  {
   "cell_type": "code",
   "execution_count": null,
   "metadata": {},
   "outputs": [],
   "source": [
    "#PF-Prac-24\n",
    "def find_gcd(num1,num2):\n",
    "    #start writing your code here\n",
    "    for i in range(num2,1,-1):\n",
    "        if (num1%i==0) and (num2%i==0):\n",
    "            return i\n",
    "    else:\n",
    "        return 1\n",
    "    \n",
    "\n",
    "num1=45\n",
    "num2=9\n",
    "print(find_gcd(num1,num2))"
   ]
  },
  {
   "cell_type": "code",
   "execution_count": null,
   "metadata": {},
   "outputs": [],
   "source": [
    "#PF-Prac-24\n",
    "def find_gcd(num1,num2):\n",
    "    #start writing your code here\n",
    "    list=[]\n",
    "    if (num1>num2):\n",
    "        for i in range(1,num1):\n",
    "            if (num1%i==0) and (num2%i==0):\n",
    "                list.append(i)\n",
    "    elif (num2>num1):\n",
    "        for i in range(1,num2):\n",
    "            if (num1%i==0) and (num2%i==0):\n",
    "                list.append(i)\n",
    "    return max(list)\n",
    "\n",
    "num1=9\n",
    "num2=45\n",
    "print(find_gcd(num1,num2))"
   ]
  },
  {
   "cell_type": "code",
   "execution_count": null,
   "metadata": {},
   "outputs": [],
   "source": [
    "#PF-Prac-25\n",
    "def list_of_count(word_list):\n",
    "    #start writing your code here\n",
    "    count_list=[]\n",
    "    k=count=0\n",
    "    for i in word_list:\n",
    "        for j in i:\n",
    "            count = count + 1\n",
    "        count_list.append(count)\n",
    "        count=0\n",
    "    return count_list\n",
    "\n",
    "word_list=[\"COme\",\"here\"]\n",
    "print(list_of_count(word_list))"
   ]
  },
  {
   "cell_type": "code",
   "execution_count": null,
   "metadata": {},
   "outputs": [],
   "source": [
    "#PF-Prac-27\n",
    "def check_for_ten(num1,num2):\n",
    "    #start writing your code here\n",
    "    if (num1==10) or (num2==10) or (num1+num2==10):\n",
    "        return True\n",
    "    return False\n",
    "    \n",
    "print(check_for_ten(11,8))"
   ]
  },
  {
   "cell_type": "code",
   "execution_count": null,
   "metadata": {},
   "outputs": [],
   "source": [
    "#PF-Tryout\n",
    "def sing_99_bottles():\n",
    "   #start writing your code here\n",
    "   for i in range(99,0,-1):\n",
    "        print(\"{} bottles of beer on the wall, {} bottles of beer.Take one down, pass it around, {} bottles of beer on the wall.\".format(i,i,i-1))   \n",
    "sing_99_bottles()"
   ]
  },
  {
   "cell_type": "code",
   "execution_count": null,
   "metadata": {},
   "outputs": [],
   "source": [
    "#PF-Prac-29\n",
    "def exchange_list(number_list):\n",
    "    #start writing your code here\n",
    "    number_list1=[]\n",
    "    x=len(number_list)\n",
    "    y=x//2\n",
    "    for i in range(y):\n",
    "        number_list1.append(number_list[x-1])\n",
    "        x = x-1\n",
    "    x=0   \n",
    "    for i in range(y):\n",
    "        number_list1.append(number_list[x])\n",
    "        x = x+1\n",
    "    return number_list1\n",
    "number_list=[1,2,3,4,5,6]\n",
    "print(exchange_list(number_list))"
   ]
  },
  {
   "cell_type": "code",
   "execution_count": 1,
   "metadata": {},
   "outputs": [
    {
     "name": "stdout",
     "output_type": "stream",
     "text": [
      "0\n"
     ]
    }
   ],
   "source": [
    "#PF-Prac-31\n",
    "#Given a list of integers and a number. Write a python function to find and return the sum of the elements of the list. \n",
    "#Note: Don't add the given number and also the numbers present before and after the given number in the list .\n",
    "\n",
    "import time\n",
    "def sum_of_elements(num_list,number):\n",
    "    result_sum=count=0\n",
    "    y=len(num_list)\n",
    "    \n",
    "    for i in range(0,y):\n",
    "        if (len(num_list)-1 == int(i)):\n",
    "            if ((num_list[i]==number) or (num_list[i-1]==number)):\n",
    "                pass\n",
    "            else:\n",
    "                result_sum=result_sum+num_list[i]\n",
    "        else:\n",
    "            count=0\n",
    "            if((num_list[i]==number) or (num_list[i+1]==number) or (num_list[i-1]==number)):\n",
    "                continue\n",
    "            else:\n",
    "                result_sum=result_sum+num_list[i]\n",
    "                count +=1\n",
    "        \n",
    "    return result_sum\n",
    "      \n",
    "num_list=[1,2,1,2]\n",
    "number=2\n",
    "print(sum_of_elements(num_list, number))"
   ]
  },
  {
   "cell_type": "code",
   "execution_count": null,
   "metadata": {},
   "outputs": [],
   "source": [
    "#PF-Prac-32\n",
    "def check_squares(number):\n",
    "    #start writing your code here\n",
    "    for i in range(1,number):\n",
    "        for j in range(1,number):\n",
    "            if (i**2+j**2==number):\n",
    "                return True\n",
    "    else:\n",
    "        return False\n",
    "                \n",
    "\n",
    "number=68\n",
    "print(check_squares(number))"
   ]
  },
  {
   "cell_type": "code",
   "execution_count": 17,
   "metadata": {},
   "outputs": [
    {
     "name": "stdout",
     "output_type": "stream",
     "text": [
      "Sum of the elements: 247\n"
     ]
    }
   ],
   "source": [
    "#University of Washington CSE140 Final Exam 2014\n",
    "#Complete given function such that it returns the sum of the elements in num_list where num_list is a list of numbers.\n",
    "#Do not alter the statements already provided.\n",
    "\n",
    "#PF-Prac-37\n",
    "def sum_of_list(num_list): \n",
    "    #Start writing your code here\n",
    "    #Do not alter the below line\n",
    "    lst=num_list\n",
    "    if lst==[]:\n",
    "        return 0\n",
    "    return lst[0] + sum_of_list(lst[1:])\n",
    "\n",
    "num_list=[44,23,77,11,89,3]\n",
    "result=sum_of_list(num_list)\n",
    "print(\"Sum of the elements:\",result)"
   ]
  }
 ],
 "metadata": {
  "kernelspec": {
   "display_name": "Python 3",
   "language": "python",
   "name": "python3"
  },
  "language_info": {
   "codemirror_mode": {
    "name": "ipython",
    "version": 3
   },
   "file_extension": ".py",
   "mimetype": "text/x-python",
   "name": "python",
   "nbconvert_exporter": "python",
   "pygments_lexer": "ipython3",
   "version": "3.7.4"
  }
 },
 "nbformat": 4,
 "nbformat_minor": 2
}
