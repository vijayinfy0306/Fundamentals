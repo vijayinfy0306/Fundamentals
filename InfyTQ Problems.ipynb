{
 "cells": [
  {
   "cell_type": "code",
   "execution_count": 26,
   "metadata": {},
   "outputs": [
    {
     "name": "stdout",
     "output_type": "stream",
     "text": [
      "Enter the String: asdf@#246531\n",
      "254361\n"
     ]
    }
   ],
   "source": [
    "#............................................ Program-1 (Even or Odd) ......................................................\n",
    "\n",
    "string = input(\"Enter the String: \")\n",
    "\n",
    "alpha = numeric = special = even = odd = output = ''\n",
    "count = j = k = 0\n",
    "\n",
    "for i in string:\n",
    "    if i.isdigit():\n",
    "        numeric += i\n",
    "    elif i.isalpha():\n",
    "        alpha += i\n",
    "    else:\n",
    "        special += i\n",
    "        \n",
    "for i in numeric:\n",
    "    if (int(i) % 2 == 0):\n",
    "        even += i\n",
    "    else:\n",
    "        odd += i\n",
    "\n",
    "#print(even, odd)\n",
    "#print(len(special))\n",
    "\n",
    "if len(even) > len(odd):\n",
    "    maxvalue = len(even)\n",
    "else:\n",
    "    maxvalue = len(odd)\n",
    "\n",
    "if (len(special)%2 == 0):\n",
    "    for i in range(maxvalue):\n",
    "        if (len(even) != j) :\n",
    "            output += even[i]\n",
    "            j +=1\n",
    "        if (len(odd) != k) :\n",
    "            output += odd[i]\n",
    "            k +=1\n",
    "else:\n",
    "    for i in range(maxvalue):\n",
    "        if (len(odd) != j) :\n",
    "            output += odd[i]\n",
    "            j +=1\n",
    "        if (len(even) != k) :\n",
    "            output += even[i]\n",
    "            k +=1    \n",
    "            \n",
    "print(output)\n"
   ]
  },
  {
   "cell_type": "code",
   "execution_count": 23,
   "metadata": {},
   "outputs": [
    {
     "name": "stdout",
     "output_type": "stream",
     "text": [
      "Enter the string: 23456\n",
      "{'6', '2'}\n",
      "6,2\n"
     ]
    }
   ],
   "source": [
    "#.......................................... Program-2 (Pronic Number) ......................................................\n",
    "\n",
    "import time\n",
    "\n",
    "string = input(\"Enter the string: \")\n",
    "\n",
    "alpha = numeric = special = ''\n",
    "output = []\n",
    "\n",
    "for i in string:\n",
    "    if i.isdigit():\n",
    "        numeric += i\n",
    "    elif i.isalpha():\n",
    "        alpha += i\n",
    "    else:\n",
    "        special += i\n",
    "number = int(numeric)\n",
    "\n",
    "for j in numeric:\n",
    "    for i in range(1,number+1):\n",
    "        if int(j) == i * (i+1):\n",
    "            output.append(j)\n",
    "        else:\n",
    "            pass\n",
    "        if j not in output:       \n",
    "    \n",
    "output=set(output)\n",
    "print(output)\n",
    "print(','.join(output))\n",
    "    "
   ]
  },
  {
   "cell_type": "code",
   "execution_count": 30,
   "metadata": {},
   "outputs": [
    {
     "name": "stdout",
     "output_type": "stream",
     "text": [
      "['2', '3', '4']\n",
      "No\n"
     ]
    }
   ],
   "source": [
    "a=['2','3','4']\n",
    "print(a)\n",
    "if '4'not in a:\n",
    "    print('yes')\n",
    "else:\n",
    "    print('No')"
   ]
  }
 ],
 "metadata": {
  "kernelspec": {
   "display_name": "Python 3",
   "language": "python",
   "name": "python3"
  },
  "language_info": {
   "codemirror_mode": {
    "name": "ipython",
    "version": 3
   },
   "file_extension": ".py",
   "mimetype": "text/x-python",
   "name": "python",
   "nbconvert_exporter": "python",
   "pygments_lexer": "ipython3",
   "version": "3.7.4"
  }
 },
 "nbformat": 4,
 "nbformat_minor": 2
}
