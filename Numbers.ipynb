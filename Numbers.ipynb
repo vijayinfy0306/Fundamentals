{
 "cells": [
  {
   "cell_type": "code",
   "execution_count": 1,
   "metadata": {
    "scrolled": true
   },
   "outputs": [
    {
     "name": "stdout",
     "output_type": "stream",
     "text": [
      "Enter the Number: 258\n"
     ]
    },
    {
     "ename": "NameError",
     "evalue": "name 'Hundreds' is not defined",
     "output_type": "error",
     "traceback": [
      "\u001b[1;31m---------------------------------------------------------------------------\u001b[0m",
      "\u001b[1;31mNameError\u001b[0m                                 Traceback (most recent call last)",
      "\u001b[1;32m<ipython-input-1-7c2e83066638>\u001b[0m in \u001b[0;36m<module>\u001b[1;34m\u001b[0m\n\u001b[0;32m      8\u001b[0m         \u001b[0mquotient\u001b[0m \u001b[1;33m=\u001b[0m \u001b[0mNumber\u001b[0m\u001b[1;33m//\u001b[0m\u001b[1;36m100\u001b[0m\u001b[1;33m\u001b[0m\u001b[1;33m\u001b[0m\u001b[0m\n\u001b[0;32m      9\u001b[0m         \u001b[0mremainder\u001b[0m \u001b[1;33m=\u001b[0m \u001b[0mNumber\u001b[0m\u001b[1;33m%\u001b[0m\u001b[1;36m100\u001b[0m\u001b[1;33m\u001b[0m\u001b[1;33m\u001b[0m\u001b[0m\n\u001b[1;32m---> 10\u001b[1;33m         \u001b[0mstring\u001b[0m \u001b[1;33m+=\u001b[0m \u001b[0mHundreds\u001b[0m\u001b[1;33m(\u001b[0m\u001b[0mquotient\u001b[0m\u001b[1;33m)\u001b[0m\u001b[1;33m\u001b[0m\u001b[1;33m\u001b[0m\u001b[0m\n\u001b[0m\u001b[0;32m     11\u001b[0m         \u001b[1;32mif\u001b[0m \u001b[0mremainder\u001b[0m \u001b[1;33m==\u001b[0m \u001b[1;36m0\u001b[0m\u001b[1;33m:\u001b[0m\u001b[1;33m\u001b[0m\u001b[1;33m\u001b[0m\u001b[0m\n\u001b[0;32m     12\u001b[0m             \u001b[0mprint\u001b[0m\u001b[1;33m(\u001b[0m\u001b[0mstring\u001b[0m\u001b[1;33m)\u001b[0m\u001b[1;33m\u001b[0m\u001b[1;33m\u001b[0m\u001b[0m\n",
      "\u001b[1;31mNameError\u001b[0m: name 'Hundreds' is not defined"
     ]
    }
   ],
   "source": [
    "#........................................Number to String...................................................................\n",
    "\n",
    "Number=int(input(\"Enter the Number: \"))\n",
    "string=''\n",
    "\n",
    "if Number!=0:\n",
    "    if (Number//100)!=0:\n",
    "        quotient = Number//100\n",
    "        remainder = Number%100\n",
    "        string += Hundreds(quotient)\n",
    "        if remainder == 0:\n",
    "            print(string)\n",
    "        else:\n",
    "            if (remainder < 20) and (remainder > 9):\n",
    "                string += 'and ' + special(remainder)\n",
    "                print(string)\n",
    "            else:\n",
    "                quotient = remainder//10\n",
    "                remainder = remainder%10\n",
    "                string = string + 'and ' + Tens(quotient)\n",
    "                string += Ones(remainder)\n",
    "                print(string)\n",
    "        \n",
    "    elif (Number//10)!=0:\n",
    "        if (Number < 20) and (Number > 9):\n",
    "                string += special(Number)\n",
    "                print(string)\n",
    "        else:\n",
    "            quotient = Number//10\n",
    "            remainder = Number%10\n",
    "            string += Tens(quotient) \n",
    "            string += Ones(remainder)\n",
    "            Ones(remainder)\n",
    "            print(string)\n",
    "    else:\n",
    "        string = Ones(Number)\n",
    "        print(string)\n",
    "        \n",
    "def Hundreds(num):\n",
    "    if num==1:\n",
    "        return \"One Hundred \"\n",
    "    if num==2:\n",
    "        return \"Two Hundred  \"\n",
    "    if num==3:\n",
    "        return \"Three Hundred \"\n",
    "    if num==4:\n",
    "        return \"Four Hundred \"\n",
    "    if num==5:\n",
    "        return \"Five Hundred \"\n",
    "    if num==6:\n",
    "        return \"Six Hundred \"\n",
    "    if num==7:\n",
    "        return \"Seven Hundred \"\n",
    "    if num==8:\n",
    "        return \"Eight Hundred \"\n",
    "    if num==9:\n",
    "        return \"Nine Hundred \"\n",
    "    \n",
    "        \n",
    "def Tens(num):\n",
    "    if num==1:\n",
    "        return \"One \"\n",
    "    if num==2:\n",
    "        return \"Twenty \"\n",
    "    if num==3:\n",
    "        return \"Thirty \"\n",
    "    if num==4:\n",
    "        return \"Fourty \"\n",
    "    if num==5:\n",
    "        return \"Fifty \"\n",
    "    if num==6:\n",
    "        return \"Sixty \"\n",
    "    if num==7:\n",
    "        return \"Seventy \"\n",
    "    if num==8:\n",
    "        return \"Eighty \"\n",
    "    if num==9:\n",
    "        return \"Ninty \"\n",
    "    if num==0:\n",
    "        return \"\"\n",
    "    \n",
    "def special(num):\n",
    "    if num==10:\n",
    "        return \"Ten \"\n",
    "    if num==11:\n",
    "        return \"Eleven  \"\n",
    "    if num==12:\n",
    "        return \"Twleve \"\n",
    "    if num==13:\n",
    "        return \"Thirteen \"\n",
    "    if num==14:\n",
    "        return \"Fourteen \"\n",
    "    if num==15:\n",
    "        return \"fifteen \"\n",
    "    if num==16:\n",
    "        return \"Sixteen \"\n",
    "    if num==17:\n",
    "        return \"Seventeen \"\n",
    "    if num==18:\n",
    "        return \"Eighteen \"\n",
    "    if num==19:\n",
    "        return \"Nineteen \"\n",
    "                \n",
    "\n",
    "def Ones(num):\n",
    "    if num==1:\n",
    "        return \"One \"\n",
    "    if num==2:\n",
    "        return \"Two \"\n",
    "    if num==3:\n",
    "        return \"Three \"\n",
    "    if num==4:\n",
    "        return \"Four \"\n",
    "    if num==5:\n",
    "        return \"Five \"\n",
    "    if num==6:\n",
    "        return \"Six \"\n",
    "    if num==7:\n",
    "        return \"Seven \"\n",
    "    if num==8:\n",
    "        return \"Eight \"\n",
    "    if num==9:\n",
    "        return \"Nine \"\n",
    "    if num==0:\n",
    "        return \"\""
   ]
  },
  {
   "cell_type": "code",
   "execution_count": 11,
   "metadata": {},
   "outputs": [
    {
     "name": "stdout",
     "output_type": "stream",
     "text": [
      "Enter the Number: 700\n"
     ]
    },
    {
     "ename": "NameError",
     "evalue": "name 'Ones' is not defined",
     "output_type": "error",
     "traceback": [
      "\u001b[1;31m---------------------------------------------------------------------------\u001b[0m",
      "\u001b[1;31mNameError\u001b[0m                                 Traceback (most recent call last)",
      "\u001b[1;32m<ipython-input-11-5847d4144784>\u001b[0m in \u001b[0;36m<module>\u001b[1;34m\u001b[0m\n\u001b[0;32m     10\u001b[0m         \u001b[0mremainder\u001b[0m \u001b[1;33m=\u001b[0m \u001b[0mNumber\u001b[0m\u001b[1;33m%\u001b[0m\u001b[1;36m100\u001b[0m\u001b[1;33m\u001b[0m\u001b[1;33m\u001b[0m\u001b[0m\n\u001b[0;32m     11\u001b[0m         \u001b[1;32mif\u001b[0m \u001b[0mremainder\u001b[0m \u001b[1;33m==\u001b[0m \u001b[1;36m0\u001b[0m\u001b[1;33m:\u001b[0m\u001b[1;33m\u001b[0m\u001b[1;33m\u001b[0m\u001b[0m\n\u001b[1;32m---> 12\u001b[1;33m             \u001b[0mstring\u001b[0m \u001b[1;33m+=\u001b[0m \u001b[0mOnes\u001b[0m\u001b[1;33m(\u001b[0m\u001b[0mquotient\u001b[0m\u001b[1;33m)\u001b[0m \u001b[1;33m+\u001b[0m \u001b[1;34m'Hundred '\u001b[0m\u001b[1;33m\u001b[0m\u001b[1;33m\u001b[0m\u001b[0m\n\u001b[0m\u001b[0;32m     13\u001b[0m             \u001b[0mprint\u001b[0m\u001b[1;33m(\u001b[0m\u001b[0mstring\u001b[0m\u001b[1;33m)\u001b[0m\u001b[1;33m\u001b[0m\u001b[1;33m\u001b[0m\u001b[0m\n\u001b[0;32m     14\u001b[0m         \u001b[1;32melse\u001b[0m\u001b[1;33m:\u001b[0m\u001b[1;33m\u001b[0m\u001b[1;33m\u001b[0m\u001b[0m\n",
      "\u001b[1;31mNameError\u001b[0m: name 'Ones' is not defined"
     ]
    }
   ],
   "source": [
    "#........................................Number to String...................................................................\n",
    "\n",
    "\n",
    "Number=int(input(\"Enter the Number: \"))\n",
    "string=''\n",
    "\n",
    "if Number!=0:\n",
    "    if (Number//100)!=0:\n",
    "        quotient = Number//100\n",
    "        remainder = Number%100\n",
    "        if remainder == 0:\n",
    "            string += Ones(quotient) + 'Hundred '\n",
    "            print(string)\n",
    "        else:\n",
    "            string = string + Ones(quotient) + 'Hundred '\n",
    "            if (remainder < 20) and (remainder > 9):\n",
    "                string += 'and' + special(remainder)\n",
    "                print(string)\n",
    "            else:\n",
    "                quotient = remainder//10\n",
    "                remainder = remainder%10\n",
    "                string += 'and' + Tens(quotient) + Ones(remainder)\n",
    "                print(string)\n",
    "        \n",
    "    elif (Number//10)!=0:\n",
    "        if (Number < 20) and (Number > 9):\n",
    "                string += special(Number)\n",
    "                print(string)\n",
    "        else:\n",
    "            quotient = Number//10\n",
    "            remainder = Number%10\n",
    "            string += Tens(quotient) + Ones(remainder)\n",
    "            print(string)\n",
    "    else:\n",
    "        string = Ones(Number)\n",
    "        print(string)\n",
    "        \n",
    "        \n",
    "def Tens(num):\n",
    "    if num==1:\n",
    "        return \" One\"\n",
    "    if num==2:\n",
    "        return \" Twenty \"\n",
    "    if num==3:\n",
    "        return \" Thirty \"\n",
    "    if num==4:\n",
    "        return \" Fourty \"\n",
    "    if num==5:\n",
    "        return \" Fifty \"\n",
    "    if num==6:\n",
    "        return \" Sixty \"\n",
    "    if num==7:\n",
    "        return \" Seventy \"\n",
    "    if num==8:\n",
    "        return \" Eighty \"\n",
    "    if num==9:\n",
    "        return \" Ninty \"\n",
    "    if num==0:\n",
    "        return \"\"\n",
    "    \n",
    "def special(num):\n",
    "    if num==10:\n",
    "        return \" Ten \"\n",
    "    if num==11:\n",
    "        return \" Eleven  \"\n",
    "    if num==12:\n",
    "        return \" Twleve \"\n",
    "    if num==13:\n",
    "        return \" Thirteen \"\n",
    "    if num==14:\n",
    "        return \" Fourteen \"\n",
    "    if num==15:\n",
    "        return \" Fifteen \"\n",
    "    if num==16:\n",
    "        return \" Sixteen \"\n",
    "    if num==17:\n",
    "        return \" Seventeen \"\n",
    "    if num==18:\n",
    "        return \" Eighteen \"\n",
    "    if num==19:\n",
    "        return \" Nineteen \"\n",
    "                \n",
    "\n",
    "def Ones(num):\n",
    "    if num==1:\n",
    "        return \"One \"\n",
    "    if num==2:\n",
    "        return \"Two \"\n",
    "    if num==3:\n",
    "        return \"Three \"\n",
    "    if num==4:\n",
    "        return \"Four \"\n",
    "    if num==5:\n",
    "        return \"Five \"\n",
    "    if num==6:\n",
    "        return \"Six \"\n",
    "    if num==7:\n",
    "        return \"Seven \"\n",
    "    if num==8:\n",
    "        return \"Eight \"\n",
    "    if num==9:\n",
    "        return \"Nine \"\n",
    "    if num==0:\n",
    "        return \"\""
   ]
  },
  {
   "cell_type": "code",
   "execution_count": 58,
   "metadata": {},
   "outputs": [
    {
     "name": "stdout",
     "output_type": "stream",
     "text": [
      "9\n",
      "2\n",
      "[2, 4, 6, 6, 9]\n",
      "[9, 6, 6, 4, 2]\n",
      "[9, 6, 6, 7, 4, 2]\n",
      "[9, 6, 6, 7, 4]\n",
      "[9, 6, 7, 4]\n",
      "[9, 7, 4]\n"
     ]
    }
   ],
   "source": [
    "list1=[4,6,2,6,9]\n",
    "#string='.'.join(list1)\n",
    "#print(string)\n",
    "print(max(list1))\n",
    "print(min(list1))\n",
    "list1.sort()\n",
    "print(list1)\n",
    "list1.reverse()\n",
    "print(list1)\n",
    "list1.insert(3,7)\n",
    "print(list1)\n",
    "list1.pop()\n",
    "print(list1)\n",
    "list1.remove(6)\n",
    "print(list1)\n",
    "list1.pop(1)\n",
    "print(list1)"
   ]
  },
  {
   "cell_type": "code",
   "execution_count": 69,
   "metadata": {},
   "outputs": [
    {
     "name": "stdout",
     "output_type": "stream",
     "text": [
      "[9, 7, 4, 1, 2, 3, 1, 2, 3, 1, 2, 3, 1, 2, 3, 1, 2, 3, [1, 2, 3], [1, 2, 4, 3]]\n"
     ]
    }
   ],
   "source": [
    "list1\n",
    "list2=[1,2,4,3]\n",
    "list1.append(list2)\n",
    "print(list1)"
   ]
  },
  {
   "cell_type": "code",
   "execution_count": 75,
   "metadata": {},
   "outputs": [
    {
     "name": "stdout",
     "output_type": "stream",
     "text": [
      "[4, 3, 2, 1]\n"
     ]
    }
   ],
   "source": [
    "list2\n",
    "list2.sort()\n",
    "    \n",
    "#print(list2[::-1])\n",
    "list2.reverse()\n",
    "print(list2)"
   ]
  },
  {
   "cell_type": "code",
   "execution_count": 77,
   "metadata": {},
   "outputs": [
    {
     "data": {
      "text/plain": [
       "'pidnaS'"
      ]
     },
     "execution_count": 77,
     "metadata": {},
     "output_type": "execute_result"
    }
   ],
   "source": [
    "a='Sandip'\n",
    "a[::-1]"
   ]
  },
  {
   "cell_type": "code",
   "execution_count": 81,
   "metadata": {},
   "outputs": [
    {
     "name": "stdout",
     "output_type": "stream",
     "text": [
      "('s', 'a', 'n', 'd', 'i', 'p', ' ', 's', 'i', 'r')\n",
      "['s', 'a', 'n', 'd', 'i', 'p', ' ', 's', 'i', 'r']\n",
      "sandip sir\n",
      "['s', 'a', 'n', 'd', 'i', 'p', ' ', 's', 'i', 'r']\n"
     ]
    }
   ],
   "source": [
    "x='sandip sir'\n",
    "tuple1=tuple(x)\n",
    "print(tuple1)\n",
    "list1=list(x)\n",
    "print(list1)\n",
    "string1=''.join(tuple1)\n",
    "print(string1)\n",
    "string2=''.join(list1)\n",
    "print(list1)"
   ]
  },
  {
   "cell_type": "code",
   "execution_count": 94,
   "metadata": {},
   "outputs": [
    {
     "data": {
      "text/plain": [
       "True"
      ]
     },
     "execution_count": 94,
     "metadata": {},
     "output_type": "execute_result"
    }
   ],
   "source": [
    "set1={1,2,3,4,5,6}\n",
    "set2={1,1}\n",
    "set2.issubset(set1)"
   ]
  },
  {
   "cell_type": "code",
   "execution_count": 96,
   "metadata": {},
   "outputs": [
    {
     "name": "stdout",
     "output_type": "stream",
     "text": [
      "{1, 2, 3, 4}\n",
      "[1, 2, 3, 4]\n"
     ]
    }
   ],
   "source": [
    "x=[1,2,3,4]\n",
    "y=set(x)\n",
    "print(y)\n",
    "z=list(y)\n",
    "print(z)"
   ]
  }
 ],
 "metadata": {
  "kernelspec": {
   "display_name": "Python 3",
   "language": "python",
   "name": "python3"
  },
  "language_info": {
   "codemirror_mode": {
    "name": "ipython",
    "version": 3
   },
   "file_extension": ".py",
   "mimetype": "text/x-python",
   "name": "python",
   "nbconvert_exporter": "python",
   "pygments_lexer": "ipython3",
   "version": "3.7.4"
  }
 },
 "nbformat": 4,
 "nbformat_minor": 2
}
